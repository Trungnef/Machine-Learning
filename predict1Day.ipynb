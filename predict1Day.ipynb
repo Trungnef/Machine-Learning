{
 "cells": [
  {
   "cell_type": "code",
   "execution_count": 1,
   "metadata": {},
   "outputs": [],
   "source": [
    "import pandas as pd \n",
    "\n",
    "# thư viên bắt buộc \n",
    "from pandas_datareader.data import DataReader\n",
    "\n",
    "import numpy as np\n",
    "\n",
    "from sklearn.preprocessing import MinMaxScaler\n",
    "from sklearn.pipeline import Pipeline\n",
    "from sklearn.base import BaseEstimator, TransformerMixin\n",
    "from sklearn.preprocessing import FunctionTransformer\n",
    "\n",
    "# vẽ biểu đồ cho ngầu \n",
    "import matplotlib.pyplot as plt\n",
    "import seaborn as sns\n",
    "sns.set_style('whitegrid')\n",
    "plt.style.use(\"fivethirtyeight\")\n",
    "%matplotlib inline\n",
    "\n",
    "# xử lý thời gian \n",
    "from datetime import datetime\n",
    "\n",
    "# keras for LSTM\n",
    "# phải cài cái này \n",
    "from keras.models import Sequential\n",
    "from keras.layers import Dense, Dropout, LSTM"
   ]
  },
  {
   "cell_type": "code",
   "execution_count": null,
   "metadata": {},
   "outputs": [],
   "source": []
  },
  {
   "cell_type": "code",
   "execution_count": 2,
   "metadata": {},
   "outputs": [
    {
     "data": {
      "text/html": [
       "<div>\n",
       "<style scoped>\n",
       "    .dataframe tbody tr th:only-of-type {\n",
       "        vertical-align: middle;\n",
       "    }\n",
       "\n",
       "    .dataframe tbody tr th {\n",
       "        vertical-align: top;\n",
       "    }\n",
       "\n",
       "    .dataframe thead th {\n",
       "        text-align: right;\n",
       "    }\n",
       "</style>\n",
       "<table border=\"1\" class=\"dataframe\">\n",
       "  <thead>\n",
       "    <tr style=\"text-align: right;\">\n",
       "      <th></th>\n",
       "      <th>Open</th>\n",
       "      <th>High</th>\n",
       "      <th>Low</th>\n",
       "      <th>Close</th>\n",
       "      <th>Adj Close</th>\n",
       "      <th>Volume</th>\n",
       "    </tr>\n",
       "    <tr>\n",
       "      <th>Date</th>\n",
       "      <th></th>\n",
       "      <th></th>\n",
       "      <th></th>\n",
       "      <th></th>\n",
       "      <th></th>\n",
       "      <th></th>\n",
       "    </tr>\n",
       "  </thead>\n",
       "  <tbody>\n",
       "    <tr>\n",
       "      <th>2005-02-01</th>\n",
       "      <td>1.375893</td>\n",
       "      <td>1.388750</td>\n",
       "      <td>1.367500</td>\n",
       "      <td>1.384464</td>\n",
       "      <td>1.180142</td>\n",
       "      <td>678395200</td>\n",
       "    </tr>\n",
       "    <tr>\n",
       "      <th>2005-02-02</th>\n",
       "      <td>1.391964</td>\n",
       "      <td>1.426964</td>\n",
       "      <td>1.387321</td>\n",
       "      <td>1.421964</td>\n",
       "      <td>1.212108</td>\n",
       "      <td>1020062400</td>\n",
       "    </tr>\n",
       "    <tr>\n",
       "      <th>2005-02-03</th>\n",
       "      <td>1.412500</td>\n",
       "      <td>1.418393</td>\n",
       "      <td>1.380893</td>\n",
       "      <td>1.389464</td>\n",
       "      <td>1.184404</td>\n",
       "      <td>731651200</td>\n",
       "    </tr>\n",
       "    <tr>\n",
       "      <th>2005-02-04</th>\n",
       "      <td>1.390536</td>\n",
       "      <td>1.409464</td>\n",
       "      <td>1.384464</td>\n",
       "      <td>1.407857</td>\n",
       "      <td>1.200083</td>\n",
       "      <td>563556000</td>\n",
       "    </tr>\n",
       "    <tr>\n",
       "      <th>2005-02-07</th>\n",
       "      <td>1.409464</td>\n",
       "      <td>1.416964</td>\n",
       "      <td>1.383929</td>\n",
       "      <td>1.409643</td>\n",
       "      <td>1.201605</td>\n",
       "      <td>524456800</td>\n",
       "    </tr>\n",
       "    <tr>\n",
       "      <th>...</th>\n",
       "      <td>...</td>\n",
       "      <td>...</td>\n",
       "      <td>...</td>\n",
       "      <td>...</td>\n",
       "      <td>...</td>\n",
       "      <td>...</td>\n",
       "    </tr>\n",
       "    <tr>\n",
       "      <th>2023-01-23</th>\n",
       "      <td>138.119995</td>\n",
       "      <td>143.320007</td>\n",
       "      <td>137.899994</td>\n",
       "      <td>141.110001</td>\n",
       "      <td>141.110001</td>\n",
       "      <td>81760300</td>\n",
       "    </tr>\n",
       "    <tr>\n",
       "      <th>2023-01-24</th>\n",
       "      <td>140.309998</td>\n",
       "      <td>143.160004</td>\n",
       "      <td>140.300003</td>\n",
       "      <td>142.529999</td>\n",
       "      <td>142.529999</td>\n",
       "      <td>66435100</td>\n",
       "    </tr>\n",
       "    <tr>\n",
       "      <th>2023-01-25</th>\n",
       "      <td>140.889999</td>\n",
       "      <td>142.429993</td>\n",
       "      <td>138.809998</td>\n",
       "      <td>141.860001</td>\n",
       "      <td>141.860001</td>\n",
       "      <td>65799300</td>\n",
       "    </tr>\n",
       "    <tr>\n",
       "      <th>2023-01-26</th>\n",
       "      <td>143.169998</td>\n",
       "      <td>144.250000</td>\n",
       "      <td>141.899994</td>\n",
       "      <td>143.960007</td>\n",
       "      <td>143.960007</td>\n",
       "      <td>54105100</td>\n",
       "    </tr>\n",
       "    <tr>\n",
       "      <th>2023-01-27</th>\n",
       "      <td>143.160004</td>\n",
       "      <td>147.229996</td>\n",
       "      <td>143.080002</td>\n",
       "      <td>145.929993</td>\n",
       "      <td>145.929993</td>\n",
       "      <td>70492800</td>\n",
       "    </tr>\n",
       "  </tbody>\n",
       "</table>\n",
       "<p>4529 rows × 6 columns</p>\n",
       "</div>"
      ],
      "text/plain": [
       "                  Open        High         Low       Close   Adj Close  \\\n",
       "Date                                                                     \n",
       "2005-02-01    1.375893    1.388750    1.367500    1.384464    1.180142   \n",
       "2005-02-02    1.391964    1.426964    1.387321    1.421964    1.212108   \n",
       "2005-02-03    1.412500    1.418393    1.380893    1.389464    1.184404   \n",
       "2005-02-04    1.390536    1.409464    1.384464    1.407857    1.200083   \n",
       "2005-02-07    1.409464    1.416964    1.383929    1.409643    1.201605   \n",
       "...                ...         ...         ...         ...         ...   \n",
       "2023-01-23  138.119995  143.320007  137.899994  141.110001  141.110001   \n",
       "2023-01-24  140.309998  143.160004  140.300003  142.529999  142.529999   \n",
       "2023-01-25  140.889999  142.429993  138.809998  141.860001  141.860001   \n",
       "2023-01-26  143.169998  144.250000  141.899994  143.960007  143.960007   \n",
       "2023-01-27  143.160004  147.229996  143.080002  145.929993  145.929993   \n",
       "\n",
       "                Volume  \n",
       "Date                    \n",
       "2005-02-01   678395200  \n",
       "2005-02-02  1020062400  \n",
       "2005-02-03   731651200  \n",
       "2005-02-04   563556000  \n",
       "2005-02-07   524456800  \n",
       "...                ...  \n",
       "2023-01-23    81760300  \n",
       "2023-01-24    66435100  \n",
       "2023-01-25    65799300  \n",
       "2023-01-26    54105100  \n",
       "2023-01-27    70492800  \n",
       "\n",
       "[4529 rows x 6 columns]"
      ]
     },
     "execution_count": 2,
     "metadata": {},
     "output_type": "execute_result"
    }
   ],
   "source": [
    "# Read the CSV file and set 'Date' as the index\n",
    "df = pd.read_csv('Apple_Stock_Prices.csv')\n",
    "df.set_index('Date', inplace=True)\n",
    "\n",
    "# Convert the 'Date' index to datetime format\n",
    "df.index = pd.to_datetime(df.index, dayfirst=True)\n",
    "\n",
    "# Filter the DataFrame \n",
    "start_date = '2005/02/01'\n",
    "end_date = '2023/01/27'\n",
    "mask = (df.index >= start_date) & (df.index <= end_date)\n",
    "df_filtered = df.loc[mask]\n",
    "df_filtered\n"
   ]
  },
  {
   "cell_type": "code",
   "execution_count": 3,
   "metadata": {},
   "outputs": [
    {
     "data": {
      "image/png": "[encoded data removed]",
      "text/plain": [
       "<Figure size 1600x800 with 1 Axes>"
      ]
     },
     "metadata": {},
     "output_type": "display_data"
    }
   ],
   "source": [
    "plt.figure(figsize=(16,8))\n",
    "plt.plot(df['Adj Close'])\n",
    "plt.xlabel('Date', fontsize=18)\n",
    "plt.ylabel('Adj Close Price', fontsize=18)\n",
    "plt.show()"
   ]
  },
  {
   "cell_type": "code",
   "execution_count": 4,
   "metadata": {},
   "outputs": [
    {
     "data": {
      "text/plain": [
       "((6364, 6), (2122, 6), (2122, 6))"
      ]
     },
     "execution_count": 4,
     "metadata": {},
     "output_type": "execute_result"
    }
   ],
   "source": [
    "# Chia tập dữ liệu để làm việc\n",
    "def splitDataset(df):\n",
    "    length = df.shape[0]\n",
    "    sixtyPercent = length * 60 // 100\n",
    "    eightyPercent = length * 80 // 100\n",
    "    train_df = df[:sixtyPercent]\n",
    "    val_df = df[sixtyPercent:eightyPercent]\n",
    "    test_df = df[eightyPercent:]\n",
    "    return train_df, val_df, test_df\n",
    "\n",
    "train_df, val_df, test_df = splitDataset(df)\n",
    "\n",
    "train_df.shape, val_df.shape, test_df.shape"
   ]
  },
  {
   "cell_type": "code",
   "execution_count": 5,
   "metadata": {},
   "outputs": [
    {
     "data": {
      "text/plain": [
       "(6364, 1)"
      ]
     },
     "execution_count": 5,
     "metadata": {},
     "output_type": "execute_result"
    }
   ],
   "source": [
    "# Tiền xử lý tập train và tạo preprocess_pipeline\n",
    "# tạo dataframe chỉ bao gồm cột index và cột Adj Close Price \n",
    "def createDataFrame(df):\n",
    "    return df.filter(['Adj Close'])\n",
    "\n",
    "real_train_df = createDataFrame(train_df)\n",
    "real_train_df.shape"
   ]
  },
  {
   "cell_type": "code",
   "execution_count": 6,
   "metadata": {},
   "outputs": [
    {
     "data": {
      "text/plain": [
       "(6364,)"
      ]
     },
     "execution_count": 6,
     "metadata": {},
     "output_type": "execute_result"
    }
   ],
   "source": [
    "# scale dữ liệu train\n",
    "scaler = MinMaxScaler()\n",
    "scaled_train_data = scaler.fit_transform(real_train_df)\n",
    "\n",
    "def reshapeForModel(scaled_train_data):\n",
    "    return scaled_train_data.reshape((-1,))\n",
    "\n",
    "scaled_train_data = reshapeForModel(scaled_train_data)\n",
    "scaled_train_data.shape"
   ]
  },
  {
   "cell_type": "code",
   "execution_count": 7,
   "metadata": {},
   "outputs": [
    {
     "data": {
      "text/plain": [
       "((6304, 60, 1), (6304, 1))"
      ]
     },
     "execution_count": 7,
     "metadata": {},
     "output_type": "execute_result"
    }
   ],
   "source": [
    "# tạo dữ liệu train_X và train_y\n",
    "def createTrainX_y(scaled_train_data, time_steps=60, out_length=1):\n",
    "    train_X = []\n",
    "    train_y = []\n",
    "    for i in range(len(scaled_train_data) - time_steps - out_length + 1):\n",
    "        end_X = i + time_steps\n",
    "        end_y = end_X + out_length\n",
    "        train_X.append(scaled_train_data[i:end_X])\n",
    "        train_y.append(scaled_train_data[end_X:end_y])\n",
    "\n",
    "    train_X, train_y = np.array(train_X), np.array(train_y)\n",
    "    return train_X.reshape((train_X.shape[0], train_X.shape[1], 1)), train_y\n",
    "\n",
    "train_X, train_y = createTrainX_y(scaled_train_data)\n",
    "train_X.shape, train_y.shape"
   ]
  },
  {
   "cell_type": "code",
   "execution_count": 8,
   "metadata": {},
   "outputs": [
    {
     "data": {
      "text/plain": [
       "((6304, 60, 1), (6304, 1))"
      ]
     },
     "execution_count": 8,
     "metadata": {},
     "output_type": "execute_result"
    }
   ],
   "source": [
    "preprocess_pipeline = Pipeline([\n",
    "    ('dropper', FunctionTransformer(createDataFrame)),\n",
    "    ('scaler', MinMaxScaler()),\n",
    "    ('reshape', FunctionTransformer(reshapeForModel)),\n",
    "    ('createTrain', FunctionTransformer(createTrainX_y)),\n",
    "])\n",
    "\n",
    "train_X, train_y = preprocess_pipeline.fit_transform(train_df)\n",
    "train_X.shape, train_y.shape"
   ]
  },
  {
   "cell_type": "code",
   "execution_count": 9,
   "metadata": {},
   "outputs": [],
   "source": [
    "# Tạo model \n",
    "def createModel(train_X, time_steps=60, out_length=1):\n",
    "    model = Sequential()\n",
    "    model.add(LSTM(60, activation='tanh', return_sequences=False, input_shape=(train_X.shape[1], 1)))\n",
    "    model.add(Dense(out_length))\n",
    "    model.compile(optimizer='adam', loss='mse')\n",
    "\n",
    "    return model"
   ]
  },
  {
   "cell_type": "code",
   "execution_count": 10,
   "metadata": {},
   "outputs": [
    {
     "data": {
      "text/plain": [
       "((2122, 60, 1), (2122, 1))"
      ]
     },
     "execution_count": 10,
     "metadata": {},
     "output_type": "execute_result"
    }
   ],
   "source": [
    "# xử lý tập validation\n",
    "# tạo tập inputs\n",
    "val_inputs = df[len(df) - len(val_df) - 60:]\n",
    "val_X, val_y = preprocess_pipeline.transform(val_inputs)\n",
    "val_X.shape, val_y.shape"
   ]
  },
  {
   "cell_type": "code",
   "execution_count": 11,
   "metadata": {},
   "outputs": [
    {
     "name": "stdout",
     "output_type": "stream",
     "text": [
      "6304/6304 [==============================] - 188s 29ms/step - loss: 3.6156e-04\n",
      "67/67 [==============================] - 6s 21ms/step\n"
     ]
    },
    {
     "name": "stderr",
     "output_type": "stream",
     "text": [
      "C:\\Users\\DELL\\AppData\\Local\\Temp\\ipykernel_37188\\304041015.py:15: SettingWithCopyWarning: \n",
      "A value is trying to be set on a copy of a slice from a DataFrame.\n",
      "Try using .loc[row_indexer,col_indexer] = value instead\n",
      "\n",
      "See the caveats in the documentation: https://pandas.pydata.org/pandas-docs/stable/user_guide/indexing.html#returning-a-view-versus-a-copy\n",
      "  val_df['Predict'] = pred_val\n"
     ]
    },
    {
     "name": "stdout",
     "output_type": "stream",
     "text": [
      "1 7.686907624050063\n",
      "Epoch 1/2\n",
      "6304/6304 [==============================] - 169s 26ms/step - loss: 2.6598e-04\n",
      "Epoch 2/2\n",
      "6304/6304 [==============================] - 96s 15ms/step - loss: 1.1580e-04\n",
      "67/67 [==============================] - 2s 14ms/step\n"
     ]
    },
    {
     "name": "stderr",
     "output_type": "stream",
     "text": [
      "C:\\Users\\DELL\\AppData\\Local\\Temp\\ipykernel_37188\\304041015.py:15: SettingWithCopyWarning: \n",
      "A value is trying to be set on a copy of a slice from a DataFrame.\n",
      "Try using .loc[row_indexer,col_indexer] = value instead\n",
      "\n",
      "See the caveats in the documentation: https://pandas.pydata.org/pandas-docs/stable/user_guide/indexing.html#returning-a-view-versus-a-copy\n",
      "  val_df['Predict'] = pred_val\n"
     ]
    },
    {
     "name": "stdout",
     "output_type": "stream",
     "text": [
      "Epoch 1/3\n",
      "6304/6304 [==============================] - 105s 16ms/step - loss: 4.2131e-04\n",
      "Epoch 2/3\n",
      "6304/6304 [==============================] - 101s 16ms/step - loss: 1.1829e-04\n",
      "Epoch 3/3\n",
      "6304/6304 [==============================] - 102s 16ms/step - loss: 8.3225e-05\n",
      "67/67 [==============================] - 2s 18ms/step\n"
     ]
    },
    {
     "name": "stderr",
     "output_type": "stream",
     "text": [
      "C:\\Users\\DELL\\AppData\\Local\\Temp\\ipykernel_37188\\304041015.py:15: SettingWithCopyWarning: \n",
      "A value is trying to be set on a copy of a slice from a DataFrame.\n",
      "Try using .loc[row_indexer,col_indexer] = value instead\n",
      "\n",
      "See the caveats in the documentation: https://pandas.pydata.org/pandas-docs/stable/user_guide/indexing.html#returning-a-view-versus-a-copy\n",
      "  val_df['Predict'] = pred_val\n"
     ]
    },
    {
     "name": "stdout",
     "output_type": "stream",
     "text": [
      "Epoch 1/4\n",
      "6304/6304 [==============================] - 141s 22ms/step - loss: 4.6950e-04\n",
      "Epoch 2/4\n",
      "6304/6304 [==============================] - 165s 26ms/step - loss: 1.3479e-04\n",
      "Epoch 3/4\n",
      "6304/6304 [==============================] - 182s 29ms/step - loss: 8.0724e-05\n",
      "Epoch 4/4\n",
      "6304/6304 [==============================] - 195s 31ms/step - loss: 7.3489e-05\n",
      "67/67 [==============================] - 4s 25ms/step\n"
     ]
    },
    {
     "name": "stderr",
     "output_type": "stream",
     "text": [
      "C:\\Users\\DELL\\AppData\\Local\\Temp\\ipykernel_37188\\304041015.py:15: SettingWithCopyWarning: \n",
      "A value is trying to be set on a copy of a slice from a DataFrame.\n",
      "Try using .loc[row_indexer,col_indexer] = value instead\n",
      "\n",
      "See the caveats in the documentation: https://pandas.pydata.org/pandas-docs/stable/user_guide/indexing.html#returning-a-view-versus-a-copy\n",
      "  val_df['Predict'] = pred_val\n"
     ]
    },
    {
     "name": "stdout",
     "output_type": "stream",
     "text": [
      "Epoch 1/5\n",
      "6304/6304 [==============================] - 195s 30ms/step - loss: 2.8746e-04\n",
      "Epoch 2/5\n",
      "6304/6304 [==============================] - 184s 29ms/step - loss: 1.1057e-04\n",
      "Epoch 3/5\n",
      "6304/6304 [==============================] - 197s 31ms/step - loss: 7.9734e-05\n",
      "Epoch 4/5\n",
      "6304/6304 [==============================] - 183s 29ms/step - loss: 7.3536e-05\n",
      "Epoch 5/5\n",
      "6304/6304 [==============================] - 183s 29ms/step - loss: 6.2605e-05\n",
      "67/67 [==============================] - 4s 23ms/step\n"
     ]
    },
    {
     "name": "stderr",
     "output_type": "stream",
     "text": [
      "C:\\Users\\DELL\\AppData\\Local\\Temp\\ipykernel_37188\\304041015.py:15: SettingWithCopyWarning: \n",
      "A value is trying to be set on a copy of a slice from a DataFrame.\n",
      "Try using .loc[row_indexer,col_indexer] = value instead\n",
      "\n",
      "See the caveats in the documentation: https://pandas.pydata.org/pandas-docs/stable/user_guide/indexing.html#returning-a-view-versus-a-copy\n",
      "  val_df['Predict'] = pred_val\n"
     ]
    },
    {
     "name": "stdout",
     "output_type": "stream",
     "text": [
      "Epoch 1/6\n",
      "6304/6304 [==============================] - 187s 29ms/step - loss: 2.1657e-04\n",
      "Epoch 2/6\n",
      "6304/6304 [==============================] - 172s 27ms/step - loss: 9.6275e-05\n",
      "Epoch 3/6\n",
      "6304/6304 [==============================] - 156s 25ms/step - loss: 8.3020e-05\n",
      "Epoch 4/6\n",
      "6304/6304 [==============================] - 159s 25ms/step - loss: 7.5599e-05\n",
      "Epoch 5/6\n",
      "6304/6304 [==============================] - 159s 25ms/step - loss: 6.1649e-05\n",
      "Epoch 6/6\n",
      "6304/6304 [==============================] - 154s 24ms/step - loss: 6.1371e-05\n",
      "67/67 [==============================] - 3s 21ms/step\n",
      "6 6.649645127889475\n"
     ]
    },
    {
     "name": "stderr",
     "output_type": "stream",
     "text": [
      "C:\\Users\\DELL\\AppData\\Local\\Temp\\ipykernel_37188\\304041015.py:15: SettingWithCopyWarning: \n",
      "A value is trying to be set on a copy of a slice from a DataFrame.\n",
      "Try using .loc[row_indexer,col_indexer] = value instead\n",
      "\n",
      "See the caveats in the documentation: https://pandas.pydata.org/pandas-docs/stable/user_guide/indexing.html#returning-a-view-versus-a-copy\n",
      "  val_df['Predict'] = pred_val\n"
     ]
    }
   ],
   "source": [
    "# thử nhiều tham số epochs để tìm ra model tốt nhất\n",
    "epochs_ = [1,2,3,4,5,6]\n",
    "best_val_err = float('inf')\n",
    "best_epoch = None\n",
    "\n",
    "for e in epochs_:\n",
    "    # build model \n",
    "    model = createModel(train_X)\n",
    "    model.fit(train_X, train_y, batch_size=1, epochs=e)\n",
    "\n",
    "    # dự đoán tập inputs\n",
    "    pred_val = model.predict(val_X)\n",
    "    pred_val = preprocess_pipeline.inverse_transform(pred_val)\n",
    "\n",
    "    val_df['Predict'] = pred_val\n",
    "    mse = np.sqrt(np.mean(((val_df['Predict'] - val_df['Adj Close']) ** 2)))\n",
    "    if mse < best_val_err:\n",
    "        best_val_err = mse \n",
    "        best_epoch = e\n",
    "        print(e, mse)"
   ]
  },
  {
   "cell_type": "code",
   "execution_count": 19,
   "metadata": {},
   "outputs": [
    {
     "name": "stdout",
     "output_type": "stream",
     "text": [
      "Epoch 1/6\n",
      "8366/8366 [==============================] - 120s 14ms/step - loss: 2.4605e-04\n",
      "Epoch 2/6\n",
      "8366/8366 [==============================] - 140s 17ms/step - loss: 9.0005e-05\n",
      "Epoch 3/6\n",
      "8366/8366 [==============================] - 151s 18ms/step - loss: 6.1186e-05\n",
      "Epoch 4/6\n",
      "8366/8366 [==============================] - 137s 16ms/step - loss: 5.8503e-05\n",
      "Epoch 5/6\n",
      "8366/8366 [==============================] - 151s 18ms/step - loss: 5.4021e-05\n",
      "Epoch 6/6\n",
      "8366/8366 [==============================] - 153s 18ms/step - loss: 4.6754e-05\n"
     ]
    },
    {
     "data": {
      "text/plain": [
       "<keras.src.callbacks.History at 0x23d843aba00>"
      ]
     },
     "execution_count": 19,
     "metadata": {},
     "output_type": "execute_result"
    }
   ],
   "source": [
    "# fit model với tập train và predict tập test\n",
    "# tạo dữ liệu train để fit (bao gồm train_df và valid_df)\n",
    "train_inputs = df[:len(df) - len(test_df) - 60]\n",
    "train_X, train_y = preprocess_pipeline.fit_transform(train_inputs)\n",
    "\n",
    "# build model \n",
    "model = createModel(train_X)\n",
    "model.fit(train_X, train_y, batch_size=1, epochs=best_epoch)"
   ]
  },
  {
   "cell_type": "code",
   "execution_count": 13,
   "metadata": {},
   "outputs": [
    {
     "name": "stdout",
     "output_type": "stream",
     "text": [
      "67/67 [==============================] - 2s 12ms/step\n"
     ]
    }
   ],
   "source": [
    "# tạo dữ liệu test \n",
    "test_inputs = df[len(df) - len(test_df) - 60:]\n",
    "test_X, test_y = preprocess_pipeline.transform(test_inputs)\n",
    "\n",
    "# dự đoán tập inputs và chuẩn hóa ngược lại về dạng giá ban đầu \n",
    "pred_test = model.predict(test_X)\n",
    "pred_test = preprocess_pipeline.inverse_transform(pred_test)"
   ]
  },
  {
   "cell_type": "code",
   "execution_count": 14,
   "metadata": {},
   "outputs": [
    {
     "name": "stdout",
     "output_type": "stream",
     "text": [
      "67/67 [==============================] - 1s 12ms/step\n"
     ]
    },
    {
     "data": {
      "text/plain": [
       "(2122, 1)"
      ]
     },
     "execution_count": 14,
     "metadata": {},
     "output_type": "execute_result"
    }
   ],
   "source": [
    "# dự đoán tập inputs và chuẩn hóa ngược lại về dạng giá ban đầu \n",
    "pred_test = model.predict(test_X)\n",
    "pred_test = preprocess_pipeline.inverse_transform(pred_test)\n",
    "pred_test.shape"
   ]
  },
  {
   "cell_type": "code",
   "execution_count": 15,
   "metadata": {},
   "outputs": [
    {
     "name": "stderr",
     "output_type": "stream",
     "text": [
      "C:\\Users\\DELL\\AppData\\Local\\Temp\\ipykernel_37188\\1515979675.py:6: SettingWithCopyWarning: \n",
      "A value is trying to be set on a copy of a slice from a DataFrame.\n",
      "Try using .loc[row_indexer,col_indexer] = value instead\n",
      "\n",
      "See the caveats in the documentation: https://pandas.pydata.org/pandas-docs/stable/user_guide/indexing.html#returning-a-view-versus-a-copy\n",
      "  test['Predictions'] = pred_test\n"
     ]
    },
    {
     "data": {
      "image/png": "[encoded data removed]",
      "text/plain": [
       "<Figure size 1600x900 with 1 Axes>"
      ]
     },
     "metadata": {},
     "output_type": "display_data"
    }
   ],
   "source": [
    "# vẽ đồ thị phần train, test và predict \n",
    "length = df.shape[0]\n",
    "eightyPercent = length * 80 // 100\n",
    "train = df[:eightyPercent]\n",
    "test = df[eightyPercent:]\n",
    "test['Predictions'] = pred_test\n",
    "\n",
    "plt.figure(figsize=(16,9))\n",
    "plt.title('Train, Test, Prediction Price')\n",
    "plt.xlabel('Date')\n",
    "plt.ylabel('Adj Close')\n",
    "plt.plot(train['Adj Close'])\n",
    "plt.plot(test[['Adj Close','Predictions']])\n",
    "plt.legend(['Train', 'Val', 'Predictions'], loc='lower right')\n",
    "plt.show()"
   ]
  },
  {
   "cell_type": "code",
   "execution_count": 16,
   "metadata": {},
   "outputs": [
    {
     "data": {
      "text/html": [
       "<div>\n",
       "<style scoped>\n",
       "    .dataframe tbody tr th:only-of-type {\n",
       "        vertical-align: middle;\n",
       "    }\n",
       "\n",
       "    .dataframe tbody tr th {\n",
       "        vertical-align: top;\n",
       "    }\n",
       "\n",
       "    .dataframe thead th {\n",
       "        text-align: right;\n",
       "    }\n",
       "</style>\n",
       "<table border=\"1\" class=\"dataframe\">\n",
       "  <thead>\n",
       "    <tr style=\"text-align: right;\">\n",
       "      <th></th>\n",
       "      <th>Open</th>\n",
       "      <th>High</th>\n",
       "      <th>Low</th>\n",
       "      <th>Close</th>\n",
       "      <th>Adj Close</th>\n",
       "      <th>Volume</th>\n",
       "      <th>Predictions</th>\n",
       "    </tr>\n",
       "    <tr>\n",
       "      <th>Date</th>\n",
       "      <th></th>\n",
       "      <th></th>\n",
       "      <th></th>\n",
       "      <th></th>\n",
       "      <th></th>\n",
       "      <th></th>\n",
       "      <th></th>\n",
       "    </tr>\n",
       "  </thead>\n",
       "  <tbody>\n",
       "    <tr>\n",
       "      <th>2014-08-25</th>\n",
       "      <td>25.447500</td>\n",
       "      <td>25.542500</td>\n",
       "      <td>25.320000</td>\n",
       "      <td>25.385000</td>\n",
       "      <td>22.751516</td>\n",
       "      <td>161080000</td>\n",
       "      <td>22.403299</td>\n",
       "    </tr>\n",
       "    <tr>\n",
       "      <th>2014-08-26</th>\n",
       "      <td>25.355000</td>\n",
       "      <td>25.375000</td>\n",
       "      <td>25.215000</td>\n",
       "      <td>25.222500</td>\n",
       "      <td>22.605873</td>\n",
       "      <td>132608000</td>\n",
       "      <td>22.436211</td>\n",
       "    </tr>\n",
       "    <tr>\n",
       "      <th>2014-08-27</th>\n",
       "      <td>25.254999</td>\n",
       "      <td>25.642500</td>\n",
       "      <td>25.174999</td>\n",
       "      <td>25.532499</td>\n",
       "      <td>22.883717</td>\n",
       "      <td>209476000</td>\n",
       "      <td>22.266354</td>\n",
       "    </tr>\n",
       "    <tr>\n",
       "      <th>2014-08-28</th>\n",
       "      <td>25.397499</td>\n",
       "      <td>25.695000</td>\n",
       "      <td>25.389999</td>\n",
       "      <td>25.562500</td>\n",
       "      <td>22.910601</td>\n",
       "      <td>273840000</td>\n",
       "      <td>22.600828</td>\n",
       "    </tr>\n",
       "    <tr>\n",
       "      <th>2014-08-29</th>\n",
       "      <td>25.715000</td>\n",
       "      <td>25.725000</td>\n",
       "      <td>25.549999</td>\n",
       "      <td>25.625000</td>\n",
       "      <td>22.966619</td>\n",
       "      <td>178380000</td>\n",
       "      <td>22.595182</td>\n",
       "    </tr>\n",
       "    <tr>\n",
       "      <th>...</th>\n",
       "      <td>...</td>\n",
       "      <td>...</td>\n",
       "      <td>...</td>\n",
       "      <td>...</td>\n",
       "      <td>...</td>\n",
       "      <td>...</td>\n",
       "      <td>...</td>\n",
       "    </tr>\n",
       "    <tr>\n",
       "      <th>2023-01-23</th>\n",
       "      <td>138.119995</td>\n",
       "      <td>143.320007</td>\n",
       "      <td>137.899994</td>\n",
       "      <td>141.110001</td>\n",
       "      <td>141.110001</td>\n",
       "      <td>81760300</td>\n",
       "      <td>94.440186</td>\n",
       "    </tr>\n",
       "    <tr>\n",
       "      <th>2023-01-24</th>\n",
       "      <td>140.309998</td>\n",
       "      <td>143.160004</td>\n",
       "      <td>140.300003</td>\n",
       "      <td>142.529999</td>\n",
       "      <td>142.529999</td>\n",
       "      <td>66435100</td>\n",
       "      <td>95.437561</td>\n",
       "    </tr>\n",
       "    <tr>\n",
       "      <th>2023-01-25</th>\n",
       "      <td>140.889999</td>\n",
       "      <td>142.429993</td>\n",
       "      <td>138.809998</td>\n",
       "      <td>141.860001</td>\n",
       "      <td>141.860001</td>\n",
       "      <td>65799300</td>\n",
       "      <td>95.670113</td>\n",
       "    </tr>\n",
       "    <tr>\n",
       "      <th>2023-01-26</th>\n",
       "      <td>143.169998</td>\n",
       "      <td>144.250000</td>\n",
       "      <td>141.899994</td>\n",
       "      <td>143.960007</td>\n",
       "      <td>143.960007</td>\n",
       "      <td>54105100</td>\n",
       "      <td>95.297256</td>\n",
       "    </tr>\n",
       "    <tr>\n",
       "      <th>2023-01-27</th>\n",
       "      <td>143.160004</td>\n",
       "      <td>147.229996</td>\n",
       "      <td>143.080002</td>\n",
       "      <td>145.929993</td>\n",
       "      <td>145.929993</td>\n",
       "      <td>70492800</td>\n",
       "      <td>96.455017</td>\n",
       "    </tr>\n",
       "  </tbody>\n",
       "</table>\n",
       "<p>2122 rows × 7 columns</p>\n",
       "</div>"
      ],
      "text/plain": [
       "                  Open        High         Low       Close   Adj Close  \\\n",
       "Date                                                                     \n",
       "2014-08-25   25.447500   25.542500   25.320000   25.385000   22.751516   \n",
       "2014-08-26   25.355000   25.375000   25.215000   25.222500   22.605873   \n",
       "2014-08-27   25.254999   25.642500   25.174999   25.532499   22.883717   \n",
       "2014-08-28   25.397499   25.695000   25.389999   25.562500   22.910601   \n",
       "2014-08-29   25.715000   25.725000   25.549999   25.625000   22.966619   \n",
       "...                ...         ...         ...         ...         ...   \n",
       "2023-01-23  138.119995  143.320007  137.899994  141.110001  141.110001   \n",
       "2023-01-24  140.309998  143.160004  140.300003  142.529999  142.529999   \n",
       "2023-01-25  140.889999  142.429993  138.809998  141.860001  141.860001   \n",
       "2023-01-26  143.169998  144.250000  141.899994  143.960007  143.960007   \n",
       "2023-01-27  143.160004  147.229996  143.080002  145.929993  145.929993   \n",
       "\n",
       "               Volume  Predictions  \n",
       "Date                                \n",
       "2014-08-25  161080000    22.403299  \n",
       "2014-08-26  132608000    22.436211  \n",
       "2014-08-27  209476000    22.266354  \n",
       "2014-08-28  273840000    22.600828  \n",
       "2014-08-29  178380000    22.595182  \n",
       "...               ...          ...  \n",
       "2023-01-23   81760300    94.440186  \n",
       "2023-01-24   66435100    95.437561  \n",
       "2023-01-25   65799300    95.670113  \n",
       "2023-01-26   54105100    95.297256  \n",
       "2023-01-27   70492800    96.455017  \n",
       "\n",
       "[2122 rows x 7 columns]"
      ]
     },
     "execution_count": 16,
     "metadata": {},
     "output_type": "execute_result"
    }
   ],
   "source": [
    "test"
   ]
  },
  {
   "cell_type": "code",
   "execution_count": 17,
   "metadata": {},
   "outputs": [
    {
     "name": "stdout",
     "output_type": "stream",
     "text": [
      "26.652150430735873\n"
     ]
    }
   ],
   "source": [
    "mse = np.sqrt(np.mean((test['Adj Close'] - test['Predictions']) ** 2))\n",
    "print(mse)"
   ]
  },
  {
   "cell_type": "code",
   "execution_count": null,
   "metadata": {},
   "outputs": [],
   "source": []
  },
  {
   "cell_type": "code",
   "execution_count": null,
   "metadata": {},
   "outputs": [],
   "source": []
  }
 ],
 "metadata": {
  "kernelspec": {
   "display_name": "Python 3 (ipykernel)",
   "language": "python",
   "name": "python3"
  },
  "language_info": {
   "codemirror_mode": {
    "name": "ipython",
    "version": 3
   },
   "file_extension": ".py",
   "mimetype": "text/x-python",
   "name": "python",
   "nbconvert_exporter": "python",
   "pygments_lexer": "ipython3",
   "version": "3.10.6"
  }
 },
 "nbformat": 4,
 "nbformat_minor": 4
}
